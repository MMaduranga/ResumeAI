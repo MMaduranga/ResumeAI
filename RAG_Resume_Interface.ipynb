{
 "cells": [
  {
   "cell_type": "code",
   "execution_count": 20,
   "metadata": {},
   "outputs": [
    {
     "name": "stdout",
     "output_type": "stream",
     "text": [
      "Overwriting app.py\n"
     ]
    }
   ],
   "source": [
    "%%writefile app.py\n",
    "\n",
    "import streamlit as st\n",
    "import fitz  # PyMuPDF\n",
    "from PIL import Image\n",
    "import io\n",
    "from PyPDF2 import PdfReader\n",
    "def add_pdf_to_VectorDB(pdf_buffer):\n",
    "  \"\"\"\n",
    "  Adds a PDF document from a byte buffer to a VectorDB collection.\n",
    "\n",
    "  Args:\n",
    "      pdf_buffer: A byte buffer containing the PDF data.\n",
    "      collection: The VectorDB collection to add the PDF to.\n",
    "\n",
    "  Returns:\n",
    "      The updated VectorDB collection.\n",
    "  \"\"\"\n",
    "\n",
    "  if pdf_buffer:\n",
    "    reader = PdfReader(io.BytesIO(pdf_buffer))\n",
    "    data = reader.pages  \n",
    "    text_splitter = RecursiveCharacterTextSplitter(chunk_size=1000, chunk_overlap=200)\n",
    "    chunks = text_splitter.split_documents(data)\n",
    "    chunk_count=len(chunks)\n",
    "    print(f\"Number of chunks: {chunk_count}\")\n",
    "\n",
    "st.set_page_config(layout=\"wide\")  # Set the layout to wide mode\n",
    "\n",
    "# Initialize the state for the text box content\n",
    "if 'name_sess' not in st.session_state:\n",
    "    st.session_state.name_sess = ''\n",
    "\n",
    "# Create two main columns\n",
    "main_col1, main_col2 = st.columns([1, 1])\n",
    "\n",
    "with main_col1:\n",
    "    # with st.form(\"my_form\"):\n",
    "    st.title(\"User Information\")\n",
    "    name = st.text_input(\"Name\", value=st.session_state.name_sess)\n",
    "    col1, col2 = st.columns(2)\n",
    "    with col1:\n",
    "        phone = st.text_input(\"Contact Number\")\n",
    "        bdate = st.date_input(\"Date of Birth\")\n",
    "    with col2:\n",
    "        mail = st.text_input(\"Email address\")\n",
    "        gender = st.radio(\"Gender\", (\"Male\", \"Female\"),horizontal=True)\n",
    "    edu_qualification = st.text_area(\"Educational Qualifications\", \"\")\n",
    "    edu_qualification = st.text_area(\"Professional Qualifications\", \"\")\n",
    "    Certifications = st.text_area(\"Certifications\", \"\")\n",
    "    skills = st.text_area(\"Skills\", \"\")\n",
    "\n",
    "    submit_button = st.button(label='Submit')\n",
    "\n",
    "    if submit_button:\n",
    "        st.write(\"Form submitted!\")\n",
    "        st.write(f\"Name: {name}\")\n",
    "        st.write(f\"Date: {bdate}\")\n",
    "        st.write(f\"Gender: {gender}\")\n",
    "        st.write(f\"Comments: {edu_qualification}\")\n",
    "\n",
    "with main_col2:\n",
    "    st.title(\"PDF Viewer\")\n",
    "    uploaded_file = st.file_uploader(\"Choose a PDF file\", type=\"pdf\")\n",
    "\n",
    "    if uploaded_file is not None:\n",
    "        # Read the PDF file\n",
    "        proceed_button = st.button(label='Submit',key='proceed')\n",
    "        \n",
    "        with fitz.open(stream=uploaded_file.read(), filetype=\"pdf\") as doc:\n",
    "            uploaded_file.seek(0)\n",
    "            add_pdf_to_VectorDB(uploaded_file.read())\n",
    "            num_pages = doc.page_count\n",
    "            st.write(f\"Number of pages: {num_pages}\")\n",
    "\n",
    "            # Create two sub-columns for displaying PDF pages\n",
    "            col1, col2 = st.columns(2)\n",
    "\n",
    "            for page_num in range(num_pages):\n",
    "                page = doc.load_page(page_num)\n",
    "                pix = page.get_pixmap()\n",
    "                img = Image.open(io.BytesIO(pix.tobytes()))\n",
    "\n",
    "                if page_num % 2 == 0:\n",
    "                    with col1:\n",
    "                        st.image(img, caption=f'Page {page_num + 1}', use_column_width=True)\n",
    "                else:\n",
    "                    with col2:\n",
    "                        st.image(img, caption=f'Page {page_num + 1}', use_column_width=True)\n",
    "        \n",
    "        if proceed_button:\n",
    "            st.session_state.name_sess = 'banana nanana nana'"
   ]
  },
  {
   "cell_type": "code",
   "execution_count": null,
   "metadata": {},
   "outputs": [],
   "source": [
    "\n",
    "        # Call the function to add the PDF to VectorDB\n",
    "        collection = None  # Initialize your VectorDB collection here\n",
    "        updated_collection = add_pdf_to_VectorDB(uploaded_file.read(), collection)"
   ]
  },
  {
   "cell_type": "code",
   "execution_count": 2,
   "metadata": {},
   "outputs": [
    {
     "name": "stdout",
     "output_type": "stream",
     "text": [
      "Overwriting app.py\n"
     ]
    }
   ],
   "source": [
    "%%writefile app.py\n",
    "\n",
    "import streamlit as st\n",
    "\n",
    "\n",
    "# Initialize the state for the text box content\n",
    "if 'textbox_content' not in st.session_state:\n",
    "    st.session_state.textbox_content = 0\n",
    "\n",
    "# Function to update the content of the text box\n",
    "def update_textbox():\n",
    "    st.session_state.textbox_content += 1\n",
    "\n",
    "# Display the text box with the current state content\n",
    "text_box = st.text_area(\"Text Box\", value=st.session_state.textbox_content, key=\"textbox\")\n",
    "\n",
    "# Button to change the content of the text box\n",
    "if st.button(\"Update Text Box\"):\n",
    "    update_textbox()\n",
    "\n",
    "# # Optionally, you can display the current content below the button\n",
    "# st.write(\"Current content of the text box:\", st.session_state.textbox_content)\n"
   ]
  },
  {
   "cell_type": "code",
   "execution_count": 7,
   "metadata": {},
   "outputs": [],
   "source": [
    "# cd G:\\Python\\Resume_analyzer\n",
    "# streamlit run app.py"
   ]
  }
 ],
 "metadata": {
  "kernelspec": {
   "display_name": "vision",
   "language": "python",
   "name": "python3"
  },
  "language_info": {
   "codemirror_mode": {
    "name": "ipython",
    "version": 3
   },
   "file_extension": ".py",
   "mimetype": "text/x-python",
   "name": "python",
   "nbconvert_exporter": "python",
   "pygments_lexer": "ipython3",
   "version": "3.11.8"
  }
 },
 "nbformat": 4,
 "nbformat_minor": 2
}
